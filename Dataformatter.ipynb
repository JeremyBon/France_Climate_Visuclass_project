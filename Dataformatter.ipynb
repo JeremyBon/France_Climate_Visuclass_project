{
 "cells": [
  {
   "cell_type": "code",
   "execution_count": 32,
   "metadata": {},
   "outputs": [
    {
     "name": "stdout",
     "output_type": "stream",
     "text": [
      "tas_timeseries_annual_cru_1901-2021_FRA.csv\n"
     ]
    }
   ],
   "source": [
    "import pandas as pd\n",
    "import os\n",
    "path=\"data/\"\n",
    "for filename in os.listdir(path):\n",
    "    # Check if the file is a CSV file\n",
    "    print(filename)\n",
    "    if filename.endswith(\".csv\") and not filename.startswith(\"ok_\"):\n",
    "\n",
    "        data=pd.read_csv(os.path.join(path, filename), sep=',',skiprows=1)\n",
    "        col=['Year',\n",
    " 'France',\n",
    " 'Alsace',\n",
    " 'Aquitaine',\n",
    " 'Auvergne',\n",
    " 'Basse-Normandie',\n",
    " 'Bourgogne',\n",
    " 'Bretagne',\n",
    " 'Centre',\n",
    " 'Champagne-Ardenne',\n",
    " 'Corse',\n",
    " 'Franche-Comté',\n",
    " 'Haute-Normandie',\n",
    " 'Île-de-France',\n",
    " 'Languedoc-Roussillon',\n",
    " 'Limousin',\n",
    " 'Lorraine',\n",
    " 'Midi-Pyrénées',\n",
    " 'Nord-Pas-de-Calais',\n",
    " 'Pays de la Loire',\n",
    " 'Picardie',\n",
    " 'Poitou-Charentes',\n",
    " \"Provence-Alpes-Côte d'Azur\",\n",
    " 'Rhône-Alpes',\n",
    " 'Cayenne',\n",
    " 'Saint-laurent-du-maroni',\n",
    " 'Administrative unit not available',\n",
    " 'Administrative unit not available.1',\n",
    " 'Arrondissement_du_vent',\n",
    " 'Arrondissement_souse_le_vent',\n",
    " 'Fort-de-France',\n",
    " 'La Trinite',\n",
    " 'Le Marin',\n",
    " 'Saint-Pierre']\n",
    "        data.columns=col\n",
    "        data.to_csv(os.path.join(path, \"ok_\"+filename), sep=',', index=False)\n",
    "        os.remove(os.path.join(path, filename))\n",
    "        "
   ]
  },
  {
   "cell_type": "code",
   "execution_count": 31,
   "metadata": {},
   "outputs": [],
   "source": []
  },
  {
   "cell_type": "code",
   "execution_count": null,
   "metadata": {},
   "outputs": [],
   "source": []
  }
 ],
 "metadata": {
  "kernelspec": {
   "display_name": "Python 3",
   "language": "python",
   "name": "python3"
  },
  "language_info": {
   "codemirror_mode": {
    "name": "ipython",
    "version": 3
   },
   "file_extension": ".py",
   "mimetype": "text/x-python",
   "name": "python",
   "nbconvert_exporter": "python",
   "pygments_lexer": "ipython3",
   "version": "3.10.8"
  },
  "orig_nbformat": 4,
  "vscode": {
   "interpreter": {
    "hash": "23e0aedb6d47e040503db7fcf09a0dff3cea72eb7d5d4c2596a602b1504b448c"
   }
  }
 },
 "nbformat": 4,
 "nbformat_minor": 2
}
