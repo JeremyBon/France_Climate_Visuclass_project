{
 "cells": [
  {
   "cell_type": "code",
   "execution_count": 28,
   "metadata": {},
   "outputs": [
    {
     "name": "stdout",
     "output_type": "stream",
     "text": [
      "ok_tas_timeseries_annual_cru_1901-2021_FRA.csv\n",
      "tas_timeseries_annual_cru_1901-2021_FRA.csv\n"
     ]
    }
   ],
   "source": [
    "import pandas as pd\n",
    "import os\n",
    "path=\"data/\"\n",
    "for filename in os.listdir(path):\n",
    "    # Check if the file is a CSV file\n",
    "    print(filename)\n",
    "    if filename.endswith(\".csv\") and not filename.startswith(\"ok_\"):\n",
    "\n",
    "        data=pd.read_csv(os.path.join(path, filename), sep=',',skiprows=1)\n",
    "        col=list(data.columns)\n",
    "        col[0]='Year'\n",
    "        data.columns=col\n",
    "        data.to_csv(os.path.join(path, \"ok_\"+filename), sep=';', index=False)\n",
    "        os.remove(os.path.join(path, filename))\n",
    "        "
   ]
  },
  {
   "cell_type": "code",
   "execution_count": null,
   "metadata": {},
   "outputs": [],
   "source": []
  }
 ],
 "metadata": {
  "kernelspec": {
   "display_name": "Python 3",
   "language": "python",
   "name": "python3"
  },
  "language_info": {
   "codemirror_mode": {
    "name": "ipython",
    "version": 3
   },
   "file_extension": ".py",
   "mimetype": "text/x-python",
   "name": "python",
   "nbconvert_exporter": "python",
   "pygments_lexer": "ipython3",
   "version": "3.10.8"
  },
  "orig_nbformat": 4,
  "vscode": {
   "interpreter": {
    "hash": "23e0aedb6d47e040503db7fcf09a0dff3cea72eb7d5d4c2596a602b1504b448c"
   }
  }
 },
 "nbformat": 4,
 "nbformat_minor": 2
}
